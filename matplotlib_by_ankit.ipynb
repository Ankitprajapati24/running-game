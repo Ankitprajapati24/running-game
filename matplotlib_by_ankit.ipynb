{
 "cells": [
  {
   "cell_type": "code",
   "execution_count": 11,
   "metadata": {
    "scrolled": false
   },
   "outputs": [
    {
     "name": "stdout",
     "output_type": "stream",
     "text": [
      "            Pri_stu  Sec_stu  Tri_Stu\n",
      "IIT Delhi       554     4893      859\n",
      "IIT Mumbai      543      678      976\n",
      "IIT UP          689      563      389\n",
      "            Pri_stu  Sec_stu  Tri_Stu\n",
      "IIT Delhi     554.0   4893.0    859.0\n",
      "IIT Mumbai    543.0    678.0    976.0\n",
      "IIT UP        689.0    563.0    389.0\n",
      "IIT Indore     50.0    100.0    200.0\n",
      "            Pri_stu  Sec_stu  Tri_Stu\n",
      "IIT Delhi     554.0   4893.0    859.0\n",
      "IIT Mumbai    543.0    678.0    976.0\n",
      "IIT UP        689.0    563.0    389.0\n",
      "IIT Indore     50.0    100.0    200.0\n"
     ]
    },
    {
     "data": {
      "text/html": [
       "<div>\n",
       "<style scoped>\n",
       "    .dataframe tbody tr th:only-of-type {\n",
       "        vertical-align: middle;\n",
       "    }\n",
       "\n",
       "    .dataframe tbody tr th {\n",
       "        vertical-align: top;\n",
       "    }\n",
       "\n",
       "    .dataframe thead th {\n",
       "        text-align: right;\n",
       "    }\n",
       "</style>\n",
       "<table border=\"1\" class=\"dataframe\">\n",
       "  <thead>\n",
       "    <tr style=\"text-align: right;\">\n",
       "      <th></th>\n",
       "      <th>Pri_stu</th>\n",
       "      <th>Biology</th>\n",
       "      <th>Tri_Stu</th>\n",
       "    </tr>\n",
       "  </thead>\n",
       "  <tbody>\n",
       "    <tr>\n",
       "      <th>IIT Delhi</th>\n",
       "      <td>554.0</td>\n",
       "      <td>4893.0</td>\n",
       "      <td>859.0</td>\n",
       "    </tr>\n",
       "    <tr>\n",
       "      <th>IIT Mumbai</th>\n",
       "      <td>543.0</td>\n",
       "      <td>678.0</td>\n",
       "      <td>976.0</td>\n",
       "    </tr>\n",
       "    <tr>\n",
       "      <th>IIT UP</th>\n",
       "      <td>689.0</td>\n",
       "      <td>563.0</td>\n",
       "      <td>389.0</td>\n",
       "    </tr>\n",
       "    <tr>\n",
       "      <th>IIT Indore</th>\n",
       "      <td>50.0</td>\n",
       "      <td>100.0</td>\n",
       "      <td>200.0</td>\n",
       "    </tr>\n",
       "  </tbody>\n",
       "</table>\n",
       "</div>"
      ],
      "text/plain": [
       "            Pri_stu  Biology  Tri_Stu\n",
       "IIT Delhi     554.0   4893.0    859.0\n",
       "IIT Mumbai    543.0    678.0    976.0\n",
       "IIT UP        689.0    563.0    389.0\n",
       "IIT Indore     50.0    100.0    200.0"
      ]
     },
     "execution_count": 11,
     "metadata": {},
     "output_type": "execute_result"
    }
   ],
   "source": [
    "import pandas as pd\n",
    "IITD = [554,4893,859]\n",
    "IITM = [543,678,976]\n",
    "IITB = [689,563,389]\n",
    "JEE = [IITD,IITM,IITB]\n",
    "df1= pd.DataFrame(JEE , index = ['IIT Delhi','IIT Mumbai','IIT UP'], columns = ['Pri_stu','Sec_stu','Tri_Stu'])\n",
    "\n",
    "print(df1)\n",
    "df1.loc['IIT Indore', : ]= [50,100,200]\n",
    "print(df1)\n",
    "\n",
    "# #deleting roW/ column \n",
    "# del df1['Tri_Stu']\n",
    "# print(df1)\n",
    "\n",
    "#Renaming of row in dataframe \n",
    "df1.rename(index = {\"IIT UP\": \"IITU\",\"IIT Delhi\":\"IITDD\"})\n",
    "print(df1)\n",
    "\n",
    "#renaming of a column in dataframe \n",
    "df1.rename(columns = {\"Sec_stu\": \"Biology\"})"
   ]
  },
  {
   "cell_type": "code",
   "execution_count": 11,
   "metadata": {},
   "outputs": [
    {
     "name": "stdout",
     "output_type": "stream",
     "text": [
      "       Working days  Number of Lecturs\n",
      "True         MOnday                 10\n",
      "False       Tuesday                  3\n",
      "True      Wednesday                  6\n",
      "False      Thursday                  7\n",
      "False        Friday                  5\n",
      "True       Saterday                  9\n"
     ]
    }
   ],
   "source": [
    "#creating datafram boolen index\n",
    "\n",
    "import pandas as pd \n",
    "days = [\"MOnday\",\"Tuesday\",\"Wednesday\",\"Thursday\",\"Friday\",\"Saterday\"]\n",
    "classes = [10,3,6,7,5,9]\n",
    "dict1 = {\" Working days\":days,\"Number of Lecturs\":classes}\n",
    "df1 = pd.DataFrame(dict1 ,index = [True,False,True,False,False,True])\n",
    "print(df1)\n"
   ]
  },
  {
   "cell_type": "code",
   "execution_count": 67,
   "metadata": {},
   "outputs": [
    {
     "data": {
      "image/png": "[encoded data removed]",
      "text/plain": [
       "<Figure size 360x288 with 1 Axes>"
      ]
     },
     "metadata": {
      "needs_background": "light"
     },
     "output_type": "display_data"
    }
   ],
   "source": [
    "# Marks is a list that stors marks of student in unit test.Write a python program to dispaly the student paformence?\n",
    "\n",
    "# 1. line Chart \n",
    "\n",
    "import matplotlib.pyplot as plt\n",
    "week = [1,2,3,4]\n",
    "marks = [70,80,90,80]\n",
    "total = [90,60,70,50]\n",
    "colur = [\"red\",\"pink\",'blue','green','orange','black','yellow','cyan','lime','hotpink']\n",
    "\n",
    "#line style = deshed, doted,solid,dashdot, \"b\" =\n",
    "# plt.plot(week,marks,'green', linewidth = 3, linestyle = \"solid\"#,markeredgecolor =\"g\" )\n",
    "plt.figure(figsize=(5,4))\n",
    "#plt.plot(week,total, 'black', linewidth =5,linestyle = 'solid',marker = '+')\n",
    "plt.scatter(week,marks, c = 'r',marker = 'D')\n",
    "#labling\n",
    "plt.xlabel(\"week\")\n",
    "plt.ylabel(\"Marks\")\n",
    "plt.show()\n",
    "\n",
    "# size of line chart\n"
   ]
  },
  {
   "cell_type": "code",
   "execution_count": 66,
   "metadata": {},
   "outputs": [
    {
     "data": {
      "image/png": "[encoded data removed]",
      "text/plain": [
       "<Figure size 432x288 with 1 Axes>"
      ]
     },
     "metadata": {
      "needs_background": "light"
     },
     "output_type": "display_data"
    }
   ],
   "source": [
    "# bar graph \n",
    " \n",
    "import matplotlib.pyplot as plt\n",
    "\n",
    "country = ['India','USA','China','Japan']\n",
    "gold = [100,40,30,60]\n",
    "silver= [50,20,15,30]\n",
    "browns = [25,10,7,15]\n",
    " \n",
    "\n",
    "#plt.barh(country,gold, color = ['#0048BA','blue',\"green\",'#7CB9E8'])\n",
    "plt.bar(country,gold)\n",
    "plt.bar(country,silver)\n",
    "plt.bar(country,browns)\n",
    "plt.xlabel(\"Country Name\")\n",
    "plt.ylabel(\"Winning Medals\")\n",
    "plt.ylabel('gold',)\n",
    "plt.show()"
   ]
  },
  {
   "cell_type": "code",
   "execution_count": 2,
   "metadata": {},
   "outputs": [
    {
     "data": {
      "image/png": "[encoded data removed]",
      "text/plain": [
       "<Figure size 432x288 with 1 Axes>"
      ]
     },
     "metadata": {
      "needs_background": "light"
     },
     "output_type": "display_data"
    }
   ],
   "source": [
    "#bargraph multipilar\n",
    "\n",
    "import matplotlib.pyplot as plt\n",
    "import numpy as np\n",
    "\n",
    "info = ['gold','silver','browns','total']\n",
    "Asteliya = [80,59,59,190]\n",
    "england = [45,45,45,136]\n",
    "india = [26,20,20,66]\n",
    "canada = [15,40,27,82]\n",
    "x = np.arange(len(info))\n",
    "plt.bar(info,Asteliya, width = .15)\n",
    "plt.bar(x+0.15,england, width = .15)\n",
    "plt.bar(x+0.30,india, width = .15)\n",
    "plt.bar(x+0.45,canada, width = .15)\n",
    "plt.show()"
   ]
  },
  {
   "cell_type": "code",
   "execution_count": null,
   "metadata": {},
   "outputs": [],
   "source": []
  }
 ],
 "metadata": {
  "kernelspec": {
   "display_name": "Python 3",
   "language": "python",
   "name": "python3"
  },
  "language_info": {
   "codemirror_mode": {
    "name": "ipython",
    "version": 3
   },
   "file_extension": ".py",
   "mimetype": "text/x-python",
   "name": "python",
   "nbconvert_exporter": "python",
   "pygments_lexer": "ipython3",
   "version": "3.7.3"
  }
 },
 "nbformat": 4,
 "nbformat_minor": 2
}
